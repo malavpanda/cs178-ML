{
 "cells": [
  {
   "cell_type": "markdown",
   "metadata": {},
   "source": [
    "# CS 178 HW 4"
   ]
  },
  {
   "cell_type": "markdown",
   "metadata": {},
   "source": [
    " Malav Pandya \n",
    "\n",
    " 91044866"
   ]
  },
  {
   "cell_type": "code",
   "execution_count": 1,
   "metadata": {
    "collapsed": true
   },
   "outputs": [],
   "source": [
    "import numpy as np\n",
    "import mltools as ml\n",
    "import matplotlib.pyplot as plt"
   ]
  },
  {
   "cell_type": "markdown",
   "metadata": {},
   "source": [
    "## Problem 1:"
   ]
  },
  {
   "cell_type": "markdown",
   "metadata": {},
   "source": [
    "### (a)"
   ]
  },
  {
   "cell_type": "markdown",
   "metadata": {},
   "source": [
    "Define the entropy function:"
   ]
  },
  {
   "cell_type": "code",
   "execution_count": 2,
   "metadata": {
    "collapsed": true
   },
   "outputs": [],
   "source": [
    "def H(a,b):\n",
    "    compl = 1-(a/b);\n",
    "    h = (a/b) * np.log2(b/a) + (compl) * np.log2(1/compl);\n",
    "    return h;"
   ]
  },
  {
   "cell_type": "markdown",
   "metadata": {},
   "source": [
    "Given P(y=1) = 4/10 = 2/5 = 0.4,\n",
    "\n",
    "Calculate entropy of y:"
   ]
  },
  {
   "cell_type": "code",
   "execution_count": 3,
   "metadata": {
    "collapsed": false
   },
   "outputs": [
    {
     "name": "stdout",
     "output_type": "stream",
     "text": [
      "H(4/10) = 0.970950594455\n"
     ]
    }
   ],
   "source": [
    "Hy = H(4,10);\n",
    "print(\"H(4/10) = \" + str(H(4,10)));"
   ]
  },
  {
   "cell_type": "markdown",
   "metadata": {},
   "source": [
    "### (b)"
   ]
  },
  {
   "cell_type": "code",
   "execution_count": 4,
   "metadata": {
    "collapsed": false
   },
   "outputs": [
    {
     "name": "stdout",
     "output_type": "stream",
     "text": [
      "x1_IG = 0.046439344671\n",
      "x2_IG = 0.6821793565\n",
      "x3_IG = 0.0124953792123\n",
      "x4_IG = 0.0857599196929\n",
      "x5_IG = 0.0258818396083\n"
     ]
    }
   ],
   "source": [
    "x1_IG = Hy - (2/5 * H(1,4) + 3/5 * H(1,2));\n",
    "print(\"x1_IG = \"+ str(x1_IG));\n",
    "\n",
    "x2_IG = Hy - (2/5 * H(4,5) + 3/5 * 0);\n",
    "print(\"x2_IG = \"+ str(x2_IG));\n",
    "\n",
    "x3_IG = Hy - (2/5 * H(1,3) + 3/5 * H(3,7));\n",
    "print(\"x3_IG = \"+ str(x3_IG));\n",
    "\n",
    "x4_IG = Hy - (2/5 * H(2,3) + 3/5 * H(2,7));\n",
    "print(\"x4_IG = \"+ str(x4_IG));\n",
    "\n",
    "x5_IG = Hy - (2/5 * H(3,7) + 3/5 * H(1,3));\n",
    "print(\"x5_IG = \"+ str(x5_IG));"
   ]
  },
  {
   "cell_type": "markdown",
   "metadata": {},
   "source": [
    "Based on the information gain, I would split on x2 first."
   ]
  },
  {
   "cell_type": "markdown",
   "metadata": {},
   "source": [
    "### (c)"
   ]
  },
  {
   "cell_type": "markdown",
   "metadata": {},
   "source": [
    "When x2 = 1, y = 1"
   ]
  },
  {
   "cell_type": "markdown",
   "metadata": {},
   "source": [
    "![alt text](X2.png)"
   ]
  },
  {
   "cell_type": "markdown",
   "metadata": {},
   "source": [
    "When x1 = 1, y = 1"
   ]
  },
  {
   "cell_type": "markdown",
   "metadata": {},
   "source": [
    "![alt text](x1.png)"
   ]
  },
  {
   "cell_type": "markdown",
   "metadata": {},
   "source": [
    "When x4 = 1, y = -1\n",
    "\n",
    "When x4 = 0, y = 1"
   ]
  },
  {
   "cell_type": "markdown",
   "metadata": {},
   "source": [
    "The full decision tree is shown below:"
   ]
  },
  {
   "cell_type": "markdown",
   "metadata": {},
   "source": [
    "![alt text](fulltree.png)"
   ]
  },
  {
   "cell_type": "markdown",
   "metadata": {},
   "source": [
    "## Problem 2:"
   ]
  },
  {
   "cell_type": "markdown",
   "metadata": {},
   "source": [
    "### (a)"
   ]
  },
  {
   "cell_type": "code",
   "execution_count": 5,
   "metadata": {
    "collapsed": true
   },
   "outputs": [],
   "source": [
    "X = np.genfromtxt(\"nX_train.txt\",delimiter=None) \n",
    "Xt = X[1:10000,:];\n",
    "Xv = X[10001:20000,:];\n",
    "Y = np.genfromtxt(\"Y_train.txt\",delimiter=None) \n",
    "Yt = Y[1:10000,np.newaxis];\n",
    "Yv = Y[10001:20000,];"
   ]
  },
  {
   "cell_type": "markdown",
   "metadata": {},
   "source": [
    "### (b)"
   ]
  },
  {
   "cell_type": "code",
   "execution_count": 6,
   "metadata": {
    "collapsed": false
   },
   "outputs": [
    {
     "name": "stdout",
     "output_type": "stream",
     "text": [
      "Training Error = 0.0047004700470047005\n",
      "Validation Error = 0.3785378537853785\n"
     ]
    }
   ],
   "source": [
    "learner = ml.dtree.treeClassify(Xt,Yt, maxDepth=50);\n",
    "#error on training\n",
    "YtHat = learner.predict(Xt);\n",
    "length = len(YtHat);\n",
    "err = 0\n",
    "for j in range(0,length):\n",
    "    err += 1 if (YtHat[j] != Yt[j]) else 0 \n",
    "tr_err = err/(length);\n",
    "\n",
    "print(\"Training Error = \" + str(tr_err));\n",
    "\n",
    "#error on validation                \n",
    "YvHat = learner.predict(Xv);\n",
    "length = len(YvHat);\n",
    "err = 0\n",
    "for j in range(0,length):\n",
    "    err += 1 if (YvHat[j] != Yv[j]) else 0 \n",
    "val_err = err/(length);\n",
    "\n",
    "print(\"Validation Error = \" + str(val_err));"
   ]
  },
  {
   "cell_type": "markdown",
   "metadata": {},
   "source": [
    "### (c)"
   ]
  },
  {
   "cell_type": "code",
   "execution_count": 7,
   "metadata": {
    "collapsed": false
   },
   "outputs": [
    {
     "name": "stdout",
     "output_type": "stream",
     "text": [
      "Training Errors: \n",
      "0: 0.34173417341734175\n",
      "1: 0.34173417341734175\n",
      "2: 0.32223222322232226\n",
      "3: 0.3132313231323132\n",
      "4: 0.31053105310531054\n",
      "5: 0.30083008300830083\n",
      "6: 0.2948294829482948\n",
      "7: 0.28722872287228723\n",
      "8: 0.27682768276827685\n",
      "9: 0.2632263226322632\n",
      "10: 0.24582458245824582\n",
      "11: 0.23072307230723071\n",
      "12: 0.21002100210021002\n",
      "13: 0.18821882188218822\n",
      "14: 0.16561656165616562\n",
      "15: 0.1468146814681468\n",
      "Validation Errors: \n",
      "0: 0.34193419341934195\n",
      "1: 0.34193419341934195\n",
      "2: 0.3191319131913191\n",
      "3: 0.3126312631263126\n",
      "4: 0.31523152315231523\n",
      "5: 0.3102310231023102\n",
      "6: 0.3102310231023102\n",
      "7: 0.3118311831183118\n",
      "8: 0.3122312231223122\n",
      "9: 0.3187318731873187\n",
      "10: 0.32413241324132414\n",
      "11: 0.3256325632563256\n",
      "12: 0.33703370337033706\n",
      "13: 0.33893389338933894\n",
      "14: 0.34783478347834784\n",
      "15: 0.35963596359635963\n"
     ]
    }
   ],
   "source": [
    "errTrain = np.empty([16,1]);\n",
    "maxDepth = np.linspace(0, 15, num=16);\n",
    "maxDepth = maxDepth[:, np.newaxis];\n",
    "print(\"Training Errors: \")\n",
    "for i,k in enumerate(maxDepth):\n",
    "    learner = ml.dtree.treeClassify(Xt,Yt, maxDepth=k);\n",
    "    Yhat = learner.predict(Xt) \n",
    "    err = 0\n",
    "    for j in range(0,len(Yhat)):\n",
    "        err += 1 if (Yhat[j] != Yt[j]) else 0 \n",
    "    fracterr = err/(len(Yhat))                 \n",
    "    errTrain[i] = fracterr\n",
    "    print(str(i) + \": \" + str(fracterr));\n",
    "\n",
    "plt.semilogx(maxDepth, errTrain, label = 'Training Err', color = 'r');\n",
    "\n",
    "print(\"Validation Errors: \")\n",
    "for i,k in enumerate(maxDepth):\n",
    "    learner = ml.dtree.treeClassify(Xt,Yt, maxDepth=k);\n",
    "    Yhat = learner.predict(Xv) \n",
    "    err = 0\n",
    "    for j in range(0,len(Yhat)):\n",
    "        err += 1 if (Yhat[j] != Yv[j]) else 0 \n",
    "    fracterr = err/(len(Yhat))                 \n",
    "    errTrain[i] = fracterr\n",
    "    print(str(i) + \": \" + str(fracterr));\n",
    "\n",
    "plt.semilogx(maxDepth, errTrain, label = 'Validation Err', color = 'g');"
   ]
  },
  {
   "cell_type": "code",
   "execution_count": 8,
   "metadata": {
    "collapsed": false
   },
   "outputs": [
    {
     "data": {
      "image/png": "[encoded data removed]",
      "text/plain": [
       "<matplotlib.figure.Figure at 0x26ddf8aa550>"
      ]
     },
     "metadata": {},
     "output_type": "display_data"
    }
   ],
   "source": [
    "plt.axis([0, 15, 0.28, 0.4])\n",
    "plt.title(\"Max Depth Parameters\")\n",
    "plt.legend(bbox_to_anchor=(1.05, 1), loc=2, borderaxespad=0.)\n",
    "plt.show()"
   ]
  },
  {
   "cell_type": "markdown",
   "metadata": {},
   "source": [
    "The complexity is increasing with the depth cutoff as it can be seen midway in the graph above, the training error decreases while the validation error rises. Complexity rises with size of the tree. Max depth is used to control overfitting. The model begins overfitting at depth = 7. I would pick maxdepth = 7 as the best. "
   ]
  },
  {
   "cell_type": "markdown",
   "metadata": {},
   "source": [
    "### (d) "
   ]
  },
  {
   "cell_type": "code",
   "execution_count": 9,
   "metadata": {
    "collapsed": false
   },
   "outputs": [
    {
     "name": "stdout",
     "output_type": "stream",
     "text": [
      "Training Errors: \n",
      "[4]: 0.0962096209620962\n",
      "[16]: 0.22622262226222623\n",
      "[64]: 0.2899289928992899\n",
      "[256]: 0.30853085308530853\n",
      "[1024]: 0.32223222322232226\n",
      "[4096]: 0.34173417341734175\n",
      "Validation Errors: \n",
      "[4]: 0.3777377737773777\n",
      "[16]: 0.35693569356935695\n",
      "[64]: 0.3274327432743274\n",
      "[256]: 0.31723172317231724\n",
      "[1024]: 0.3191319131913191\n",
      "[4096]: 0.34193419341934195\n"
     ]
    },
    {
     "data": {
      "image/png": "[encoded data removed]",
      "text/plain": [
       "<matplotlib.figure.Figure at 0x26dde8380b8>"
      ]
     },
     "metadata": {},
     "output_type": "display_data"
    }
   ],
   "source": [
    "errTrain = np.empty([6,1]);\n",
    "minLeaf = np.linspace(2,12, num = 6, dtype = \"int16\");\n",
    "minLeaf = minLeaf[:, np.newaxis];\n",
    "\n",
    "print(\"Training Errors: \")\n",
    "for i,k in enumerate(minLeaf):\n",
    "    learner = ml.dtree.treeClassify(Xt,Yt, maxDepth=50, minLeaf = 2**k);\n",
    "    Yhat = learner.predict(Xt) \n",
    "    err = 0\n",
    "    for j in range(0,len(Yhat)):\n",
    "        err += 1 if (Yhat[j] != Yt[j]) else 0 \n",
    "    fracterr = err/(len(Yhat))                 \n",
    "    errTrain[i] = fracterr\n",
    "    print(str(2**k) + \": \" + str(fracterr));\n",
    "    \n",
    "plt.figure()\n",
    "plt.semilogx(minLeaf, errTrain, label = \"Training Error\", color = 'r')\n",
    "\n",
    "print(\"Validation Errors: \")\n",
    "for i,k in enumerate(minLeaf):\n",
    "    learner = ml.dtree.treeClassify(Xt,Yt, maxDepth=50, minLeaf = 2**k);\n",
    "    Yhat = learner.predict(Xv) \n",
    "    err = 0\n",
    "    for j in range(0,len(Yhat)):\n",
    "        err += 1 if (Yhat[j] != Yv[j]) else 0 \n",
    "    fracterr = err/(len(Yhat))                 \n",
    "    errTrain[i] = fracterr\n",
    "    print(str(2**k) + \": \" + str(fracterr));\n",
    "\n",
    "plt.semilogx(minLeaf, errTrain, label = \"Validation Error\", color = 'g');\n",
    "plt.axis([2, 12, 0.05, 0.5])\n",
    "plt.title(\"MinLeaf Parameter\")\n",
    "plt.legend(bbox_to_anchor=(1.05, 1), loc=2, borderaxespad=0.)\n",
    "plt.show()"
   ]
  },
  {
   "cell_type": "markdown",
   "metadata": {},
   "source": [
    "From the start, the complexity decreases as minLeaf grows but only up to a certain point, then it becomes constant. The model overfits for small values of minLeaf, until it becomes constant and the tree stops learning data. I would pick minLeaf = 2^8 for complexity control. "
   ]
  },
  {
   "cell_type": "markdown",
   "metadata": {},
   "source": [
    "### (f)"
   ]
  },
  {
   "cell_type": "code",
   "execution_count": 10,
   "metadata": {
    "collapsed": false
   },
   "outputs": [
    {
     "data": {
      "image/png": "[encoded data removed]",
      "text/plain": [
       "<matplotlib.figure.Figure at 0x26dde811da0>"
      ]
     },
     "metadata": {},
     "output_type": "display_data"
    }
   ],
   "source": [
    "learner = ml.dtree.treeClassify(Xt,Yt, maxDepth = 7); \n",
    "fpr,tpr,_ = learner.roc(Xv,Yv);\n",
    "roc_auc = learner.auc(Xv,Yv);\n",
    "\n",
    "plt.figure()\n",
    "lw = 2\n",
    "plt.plot(fpr, tpr, color='darkorange',\n",
    "         lw=lw, label='ROC curve (area = %0.2f)' % roc_auc)\n",
    "plt.plot([0, 1], [0, 1], color='navy', lw=lw, linestyle='--')\n",
    "plt.xlim([0.0, 1.0])\n",
    "plt.ylim([0.0, 1.05])\n",
    "plt.xlabel('False Positive Rate')\n",
    "plt.ylabel('True Positive Rate')\n",
    "plt.title('ROC')\n",
    "plt.legend(loc=\"lower right\")\n",
    "plt.show()"
   ]
  },
  {
   "cell_type": "markdown",
   "metadata": {},
   "source": [
    "### (g)"
   ]
  },
  {
   "cell_type": "code",
   "execution_count": 11,
   "metadata": {
    "collapsed": true
   },
   "outputs": [],
   "source": [
    "#learner = ml.dtree.treeClassify(Xt,Yt,  maxDepth = 7); \n",
    "#Ypred = learner.predictSoft( Xte )\n",
    "#np.savetxt('Yhat_dtree.txt',\n",
    "#np.vstack( (np.arange(len(Ypred)) , Ypred[:,1]) ).T,\n",
    "#'%d, %.2f',header='ID,Prob1',comments='',delimiter=',');"
   ]
  },
  {
   "cell_type": "markdown",
   "metadata": {},
   "source": [
    "Kaggle:"
   ]
  },
  {
   "cell_type": "markdown",
   "metadata": {},
   "source": [
    "![alt text]( kaggle1.png)"
   ]
  },
  {
   "cell_type": "markdown",
   "metadata": {},
   "source": [
    "My kaggle AUC score on the test data is very close to my estimated AUC for the validation data. "
   ]
  },
  {
   "cell_type": "markdown",
   "metadata": {},
   "source": [
    "## Problem 3:"
   ]
  },
  {
   "cell_type": "markdown",
   "metadata": {},
   "source": [
    "### (a)"
   ]
  },
  {
   "cell_type": "code",
   "execution_count": 12,
   "metadata": {
    "collapsed": false
   },
   "outputs": [],
   "source": [
    "X = np.genfromtxt(\"nX_train.txt\",delimiter=None) \n",
    "Xt = X[1:10000,:];\n",
    "Xv = X[10501:11000,:];\n",
    "Y = np.genfromtxt(\"Y_train.txt\",delimiter=None) \n",
    "Yt = Y[1:10000,np.newaxis];\n",
    "Yv = Y[10501:11000,];"
   ]
  },
  {
   "cell_type": "code",
   "execution_count": 13,
   "metadata": {
    "collapsed": true
   },
   "outputs": [],
   "source": [
    "m,n = Xt.shape\n",
    "nUse = 500;\n",
    "nBag = 25; \n",
    "classifiers = [ None ] * nBag \n",
    "\n",
    "for i in range(nBag):\n",
    "    ind = np.floor( m * np.random.rand(nUse) ).astype(int) \n",
    "    Xi, Yi = Xt[ind,:] , Yt[ind] \n",
    "    classifiers[i] = ml.dtree.treeClassify(Xi, Yi, nFeatures = 5) "
   ]
  },
  {
   "cell_type": "code",
   "execution_count": 14,
   "metadata": {
    "collapsed": false
   },
   "outputs": [
    {
     "data": {
      "image/png": "[encoded data removed]",
      "text/plain": [
       "<matplotlib.figure.Figure at 0x26ddf600198>"
      ]
     },
     "metadata": {},
     "output_type": "display_data"
    }
   ],
   "source": [
    "#on validation data\n",
    "mTest = Xv.shape[0];\n",
    "nBag = np.arange(1,26);\n",
    "nBag_err = [None] * 25;\n",
    "mini = 1;\n",
    "for ii in range(0,25):\n",
    "    predict = np.zeros( (mTest, nBag[ii]) ) \n",
    "    for i in range(0,nBag[ii]):\n",
    "        predict[:,i] = classifiers[i].predict(Xv); \n",
    "    predict = np.mean(predict, axis=1) > 0.5;\n",
    "    err = 0\n",
    "    for j in range(0,mTest):\n",
    "        err += 1 if (predict[j] != Yv[j]) else 0 \n",
    "    nBag_err[ii] = err/(mTest);\n",
    "    \n",
    "plt.figure()\n",
    "plt.semilogx(nBag, nBag_err, label = \"Validation Error\", color = 'g')\n",
    "\n",
    "\n",
    "mTest = Xt.shape[0];\n",
    "nBag = np.arange(1,26);\n",
    "nBag_err = [None] * 25;\n",
    "for ii in range(0,25):\n",
    "    predict = np.zeros( (mTest, nBag[ii]) ) \n",
    "    for i in range(0,nBag[ii]):\n",
    "        predict[:,i] = classifiers[i].predict(Xt); \n",
    "    predict = np.mean(predict, axis=1);\n",
    "    for k in range(0,mTest):\n",
    "        if(predict[k] >= 0.5):\n",
    "            predict[k] = 1;\n",
    "        else:\n",
    "            predict[k] = 0;\n",
    "    err = 0\n",
    "    for j in range(0,mTest):\n",
    "        err += 1 if (predict[j] != Yt[j]) else 0 \n",
    "    nBag_err[ii] = err/(mTest);\n",
    "\n",
    "plt.semilogx(nBag, nBag_err, label = \"Training Error\", color = 'r');\n",
    "plt.title(\"Learners vs Error\");\n",
    "plt.legend(loc = \"upper right\");\n",
    "plt.show()"
   ]
  },
  {
   "cell_type": "markdown",
   "metadata": {},
   "source": [
    "### (b)"
   ]
  },
  {
   "cell_type": "markdown",
   "metadata": {
    "collapsed": true
   },
   "source": [
    "Ensemble for validation:"
   ]
  },
  {
   "cell_type": "code",
   "execution_count": 15,
   "metadata": {
    "collapsed": true
   },
   "outputs": [],
   "source": [
    "Xv = X[10001:20000,:];\n",
    "Yv = Y[10001:20000,];"
   ]
  },
  {
   "cell_type": "code",
   "execution_count": 16,
   "metadata": {
    "collapsed": false
   },
   "outputs": [],
   "source": [
    "m,n = Xt.shape\n",
    "nUse = 10000;\n",
    "nBag = 25; \n",
    "classifiers = [ None ] * nBag \n",
    "\n",
    "for i in range(0,nBag):\n",
    "    ind = np.floor( m * np.random.rand(nUse) ).astype(int) \n",
    "    Xi, Yi = Xt[ind,:] , Yt[ind] \n",
    "    classifiers[i] = ml.dtree.treeClassify(Xi, Yi, nFeatures = 5) "
   ]
  },
  {
   "cell_type": "code",
   "execution_count": 17,
   "metadata": {
    "collapsed": true
   },
   "outputs": [],
   "source": [
    "#preds = np.zeros( (Xte.shape[0], nBag) )\n",
    "#for i in range(0,nBag):\n",
    "    #pred = classifiers[i].predictSoft(Xte); # Apply each classifier\n",
    "    #pred = pred[:,1];\n",
    "    #preds[:,i] = pred ;\n",
    "\n",
    "#means = np.mean(preds,axis=1)\n",
    "\n",
    "#np.savetxt('Yhat_dtree.txt',\n",
    "#np.vstack( (np.arange(len(means)) , means) ).T,\n",
    "#'%d, %.2f',header='ID,Prob1',comments='',delimiter=',');"
   ]
  },
  {
   "cell_type": "markdown",
   "metadata": {},
   "source": [
    "AUC for validation:"
   ]
  },
  {
   "cell_type": "markdown",
   "metadata": {},
   "source": [
    "(I created a ens_auc method similar to auc in base.py which estimates the auc of ensembles)"
   ]
  },
  {
   "cell_type": "code",
   "execution_count": 18,
   "metadata": {
    "collapsed": false
   },
   "outputs": [
    {
     "name": "stdout",
     "output_type": "stream",
     "text": [
      "auc = 0.668469890679\n"
     ]
    }
   ],
   "source": [
    "auc = classifiers[0].ens_auc(Xv,Yv,classifiers,nBag);\n",
    "print(\"auc = \" + str(auc));"
   ]
  },
  {
   "cell_type": "markdown",
   "metadata": {},
   "source": [
    "Kaggle:"
   ]
  },
  {
   "cell_type": "markdown",
   "metadata": {},
   "source": [
    "![alt text](kaggle2.png)"
   ]
  },
  {
   "cell_type": "markdown",
   "metadata": {},
   "source": [
    "Again, my kaggle AUC score on the test data is very close to my estimated AUC for the validation data. "
   ]
  }
 ],
 "metadata": {
  "anaconda-cloud": {},
  "kernelspec": {
   "display_name": "Python [conda root]",
   "language": "python",
   "name": "conda-root-py"
  },
  "language_info": {
   "codemirror_mode": {
    "name": "ipython",
    "version": 3
   },
   "file_extension": ".py",
   "mimetype": "text/x-python",
   "name": "python",
   "nbconvert_exporter": "python",
   "pygments_lexer": "ipython3",
   "version": "3.5.2"
  }
 },
 "nbformat": 4,
 "nbformat_minor": 1
}
